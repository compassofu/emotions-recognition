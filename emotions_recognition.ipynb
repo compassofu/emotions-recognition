{
 "cells": [
  {
   "cell_type": "markdown",
   "id": "a2f983fe-d329-4233-b0be-be153081362d",
   "metadata": {},
   "source": [
    "# Emotions Recognition"
   ]
  },
  {
   "cell_type": "code",
   "execution_count": 1,
   "id": "026bfe63-fd13-4845-9f42-a5f762900a33",
   "metadata": {
    "collapsed": true,
    "jupyter": {
     "outputs_hidden": true
    }
   },
   "outputs": [
    {
     "name": "stdout",
     "output_type": "stream",
     "text": [
      "################|| Downloading face-detection-adas-0001 ||################\n",
      "\n",
      "========== Downloading D:\\openvino_notebooks\\open_model_zoo\\emotions_recognition\\intel\\face-detection-adas-0001\\FP16\\face-detection-adas-0001.xml\n",
      "... 100%, 304 KB, 308 KB/s, 0 seconds passed\n",
      "\n",
      "========== Downloading D:\\openvino_notebooks\\open_model_zoo\\emotions_recognition\\intel\\face-detection-adas-0001\\FP16\\face-detection-adas-0001.bin\n",
      "... 49%, 1024 KB, 546 KB/s, 1 seconds passed\n",
      "... 99%, 2048 KB, 672 KB/s, 3 seconds passed\n",
      "... 100%, 2056 KB, 671 KB/s, 3 seconds passed\n",
      "\n",
      "################|| Downloading emotions-recognition-retail-0003 ||################\n",
      "\n",
      "========== Downloading D:\\openvino_notebooks\\open_model_zoo\\emotions_recognition\\intel\\emotions-recognition-retail-0003\\FP16\\emotions-recognition-retail-0003.xml\n",
      "... 100%, 54 KB, 112 KB/s, 0 seconds passed\n",
      "\n",
      "========== Downloading D:\\openvino_notebooks\\open_model_zoo\\emotions_recognition\\intel\\emotions-recognition-retail-0003\\FP16\\emotions-recognition-retail-0003.bin\n",
      "... 21%, 1024 KB, 532 KB/s, 1 seconds passed\n",
      "... 42%, 2048 KB, 526 KB/s, 3 seconds passed\n",
      "... 63%, 3072 KB, 535 KB/s, 5 seconds passed\n",
      "... 84%, 4096 KB, 578 KB/s, 7 seconds passed\n",
      "... 100%, 4848 KB, 623 KB/s, 7 seconds passed\n",
      "\n"
     ]
    }
   ],
   "source": [
    "!omz_downloader --name face-detection-adas-0001 --precision FP16\n",
    "!omz_downloader --name emotions-recognition-retail-0003 --precision FP16"
   ]
  },
  {
   "cell_type": "code",
   "execution_count": 3,
   "id": "a1c3f647-6b1a-44ae-9bd8-bb97f0c3f790",
   "metadata": {},
   "outputs": [
    {
     "name": "stdout",
     "output_type": "stream",
     "text": [
      "Face Input layer shape :  [1,3,384,672]\n",
      "Face Output layer shape :  [1,1,200,7]\n",
      "Emotion Input layer shape :  [1,3,64,64]\n",
      "Emotion Output layer shape :  [1,5,1,1]\n"
     ]
    }
   ],
   "source": [
    "import openvino as ov\n",
    "\n",
    "core = ov.Core()\n",
    "\n",
    "model1 = core.read_model(model=\"models/face-detection-adas-0001/FP16/face-detection-adas-0001.xml\")\n",
    "face_model = core.compile_model(model=model1, device_name=\"GPU.1\")\n",
    "face_input_layer = face_model.input(0)\n",
    "face_output_layer = face_model.output(0)\n",
    "print(\"Face Input layer shape : \", face_input_layer.shape)\n",
    "print(\"Face Output layer shape : \", face_output_layer.shape)\n",
    "\n",
    "model2 = core.read_model(model=\"models/emotions-recognition-retail-0003/FP16/emotions-recognition-retail-0003.xml\")\n",
    "emotion_model = core.compile_model(model=model2, device_name=\"GPU.1\")\n",
    "emotion_input_layer = emotion_model.input(0)\n",
    "emotion_output_layer = emotion_model.output(0)\n",
    "print(\"Emotion Input layer shape : \", emotion_input_layer.shape)\n",
    "print(\"Emotion Output layer shape : \", emotion_output_layer.shape)"
   ]
  },
  {
   "cell_type": "code",
   "execution_count": 24,
   "id": "48fe002c-c6d4-4001-91d3-7a783a5a11ad",
   "metadata": {},
   "outputs": [],
   "source": [
    "import cv2\n",
    "import numpy as np\n",
    "frame = cv2.imread(\"data/emotions.jpg\")\n",
    "\n",
    "resized_frame = cv2.resize(src=frame, dsize=(672, 384)) \n",
    "transposed_frame = resized_frame.transpose(2, 0, 1)\n",
    "input_frame = np.expand_dims(transposed_frame, 0)"
   ]
  },
  {
   "cell_type": "code",
   "execution_count": 35,
   "id": "4d47f99f-2748-4f1d-8089-f47bcfeea28c",
   "metadata": {},
   "outputs": [],
   "source": [
    "def DrawBoundingBoxes(output, frame, conf=0.5):\n",
    "    boxes = []\n",
    "    canvas = frame.copy()\n",
    "    h,w,_ = canvas.shape \n",
    "\n",
    "    predictions = output[0][0]            # 하위 집합 데이터 프레임\n",
    "    confidence = predictions[:,2]         # conf 값 가져오기 [image_id, label, conf, x_min, y_min, x_max, y_max]\n",
    "\n",
    "    top_predictions = predictions[(confidence>conf)]         # 임계값보다 큰 conf 값을 가진 예측만 선택\n",
    "\n",
    "    for detection in top_predictions:\n",
    "        box = (detection[3:7] * np.array([w, h, w, h])).astype(\"int\") # 상자 위치 결정\n",
    "        (xmin, ymin, xmax, ymax) = box   # xmin, ymin, xmax, ymax에 상자 위치 값 지정\n",
    "        cv2.rectangle(frame, (xmin, ymin), (xmax, ymax), (0, 0, 255), 2)       # 사각형 그리기\n",
    "        boxes.append(box)     #이미지에 박스를 그린 얼굴의 위치 저장\n",
    "   \n",
    "    return boxes\n",
    "def DrawText(output, frame, face_position):\n",
    "    emotions = {\n",
    "        0:\"neutral\",\n",
    "        1:\"happy\",\n",
    "        2:\"sad\",\n",
    "        3:\"surprise\",\n",
    "        4:\"anger\" }\n",
    "\n",
    "    predictions = output[0,:,0,0]\n",
    "    topresults_index = np.argmax(predictions)\n",
    "    emotion = emotions[topresults_index]\n",
    "\n",
    "    cv2.putText(frame, emotion, (face_position[0],face_position[1]),\n",
    "                cv2.FONT_HERSHEY_SIMPLEX, 1, (255,0,0), 2)\n",
    "\n",
    "# 배경과 합성\n",
    "def AddBackground(frame, bg):\n",
    "    frame_h, frame_w = frame.shape[0], frame.shape[1]\n",
    "    new_h = 500\n",
    "    new_w = int((new_h/frame_h)*frame_w)\n",
    "    frame_resize = cv2.resize(frame, (new_w, new_h))\n",
    "    xmax = bg.shape[1] - 400\n",
    "    ymax = bg.shape[0] - 175\n",
    "    xmin = xmax - new_w\n",
    "    ymin = ymax - new_h\n",
    "    bg[ymin:ymax, xmin:xmax] = frame_resize\n",
    "    return bg"
   ]
  },
  {
   "cell_type": "code",
   "execution_count": 36,
   "id": "07e13ee8-ff23-421c-94c2-e6b499c79429",
   "metadata": {},
   "outputs": [],
   "source": [
    "face_output = face_model([input_frame])[face_output_layer]\n",
    "boxes = DrawBoundingBoxes(face_output, frame, conf=0.5)"
   ]
  },
  {
   "cell_type": "code",
   "execution_count": 37,
   "id": "5c6387d1-e760-47cc-90af-96bc2ab2ca98",
   "metadata": {},
   "outputs": [],
   "source": [
    "if boxes is not None:\n",
    "    \n",
    "    for box in boxes:          #boxes에 저장된 얼굴의 위치들을 하나씩 box에 전달\n",
    "    \n",
    "        xmin, ymin, xmax, ymax = box      #box에 저장된 좌표 저장\n",
    "        emotion_input = frame[ymin:ymax,xmin:xmax]         #이미지에서 해당 얼굴 위치를 찾아 저장\n",
    "        \n",
    "        # 감정 인식 모델을 사용하기 위해 이미지 전처리\n",
    "        # Input layer shape:  [1,3,64,64]\n",
    "        resized_image = cv2.resize(src=emotion_input, dsize=(64, 64))      #이미지 사이즈 변경  (64,64,3)\n",
    "        transposed_image = resized_image.transpose(2, 0, 1)                #shape 위치 변경    (3,64,64)\n",
    "        input_image = np.expand_dims(transposed_image, 0)                  #차원 확장 (1,3,64,64)\n",
    "\n",
    "        emotion_output = emotion_model([input_image])[emotion_output_layer]  # 감정 추론\n",
    "        DrawText(emotion_output, frame, box)   # 추론의 결과값 이미지에 출력하기"
   ]
  },
  {
   "cell_type": "code",
   "execution_count": 29,
   "id": "c13fb6e0-e475-4b6d-9937-7458846ec588",
   "metadata": {},
   "outputs": [],
   "source": [
    "cv2.imshow(\"emotion-recognition\", frame)\n",
    "\n",
    "cv2.waitKey(0)\n",
    "cv2.destroyAllWindows()"
   ]
  },
  {
   "cell_type": "code",
   "execution_count": 38,
   "id": "9d3d79f3-7f34-4979-ac42-c34f14230e94",
   "metadata": {},
   "outputs": [],
   "source": [
    "background = \"data/bg.jpg\"\n",
    "bg = cv2.imread(background)\n",
    "\n",
    "deployment = AddBackground(frame, bg)\n",
    "cv2.imshow(\"emotion-recognition\",deployment)\n",
    "\n",
    "cv2.waitKey(0)\n",
    "cv2.destroyAllWindows()"
   ]
  },
  {
   "cell_type": "markdown",
   "id": "78726642-3c6b-408a-bcfa-2b9c220fc27f",
   "metadata": {},
   "source": [
    "# 웹캠"
   ]
  },
  {
   "cell_type": "code",
   "execution_count": 40,
   "id": "06d7d79e-0187-40a3-ba7e-0e60747fb49b",
   "metadata": {},
   "outputs": [
    {
     "name": "stdout",
     "output_type": "stream",
     "text": [
      "Face Input layer shape :  [1,3,384,672]\n",
      "Face Output layer shape :  [1,1,200,7]\n",
      "Emotion Input layer shape :  [1,3,64,64]\n",
      "Emotion Output layer shape :  [1,5,1,1]\n"
     ]
    }
   ],
   "source": [
    "import openvino as ov\n",
    "import cv2\n",
    "import numpy as np\n",
    "\n",
    "core = ov.Core()\n",
    "\n",
    "model1 = core.read_model(model=\"models/face-detection-adas-0001/FP16/face-detection-adas-0001.xml\")\n",
    "face_model = core.compile_model(model=model1, device_name=\"GPU.1\")\n",
    "face_input_layer = face_model.input(0)\n",
    "face_output_layer = face_model.output(0)\n",
    "print(\"Face Input layer shape : \", face_input_layer.shape)\n",
    "print(\"Face Output layer shape : \", face_output_layer.shape)\n",
    "\n",
    "model2 = core.read_model(model=\"models/emotions-recognition-retail-0003/FP16/emotions-recognition-retail-0003.xml\")\n",
    "emotion_model = core.compile_model(model=model2, device_name=\"GPU.1\")\n",
    "emotion_input_layer = emotion_model.input(0)\n",
    "emotion_output_layer = emotion_model.output(0)\n",
    "print(\"Emotion Input layer shape : \", emotion_input_layer.shape)\n",
    "print(\"Emotion Output layer shape : \", emotion_output_layer.shape)\n",
    "\n",
    "def DrawBoundingBoxes(output, frame, conf=0.5):\n",
    "    boxes = []\n",
    "    canvas = frame.copy()\n",
    "    h,w,_ = canvas.shape \n",
    "\n",
    "    predictions = output[0][0]            # 하위 집합 데이터 프레임\n",
    "    confidence = predictions[:,2]         # conf 값 가져오기 [image_id, label, conf, x_min, y_min, x_max, y_max]\n",
    "\n",
    "    top_predictions = predictions[(confidence>conf)]         # 임계값보다 큰 conf 값을 가진 예측만 선택\n",
    "\n",
    "    for detection in top_predictions:\n",
    "        box = (detection[3:7] * np.array([w, h, w, h])).astype(\"int\") # 상자 위치 결정\n",
    "        (xmin, ymin, xmax, ymax) = box   # xmin, ymin, xmax, ymax에 상자 위치 값 지정\n",
    "        cv2.rectangle(frame, (xmin, ymin), (xmax, ymax), (0, 0, 255), 2)       # 사각형 그리기\n",
    "        boxes.append(box)     #이미지에 박스를 그린 얼굴의 위치 저장\n",
    "   \n",
    "    return boxes\n",
    "    \n",
    "def DrawText(output, frame, face_position):\n",
    "    emotions = {\n",
    "        0:\"neutral\",\n",
    "        1:\"happy\",\n",
    "        2:\"sad\",\n",
    "        3:\"surprise\",\n",
    "        4:\"anger\" }\n",
    "\n",
    "    predictions = output[0,:,0,0]\n",
    "    topresults_index = np.argmax(predictions)\n",
    "    emotion = emotions[topresults_index]\n",
    "\n",
    "    cv2.putText(frame, emotion, (face_position[0],face_position[1]),\n",
    "                cv2.FONT_HERSHEY_SIMPLEX, 1, (255,0,0), 2)\n",
    "\n",
    "def AddBackground(frame, bg):\n",
    "    frame_h, frame_w = frame.shape[0], frame.shape[1]\n",
    "    new_h = 500\n",
    "    new_w = int((new_h/frame_h)*frame_w)\n",
    "    frame_resize = cv2.resize(frame, (new_w, new_h))\n",
    "    xmax = bg.shape[1] - 300\n",
    "    ymax = bg.shape[0] - 175\n",
    "    xmin = xmax - new_w\n",
    "    ymin = ymax - new_h\n",
    "    bg[ymin:ymax, xmin:xmax] = frame_resize\n",
    "    return bg\n",
    "\n",
    "cam=cv2.VideoCapture(0)\n",
    "while cv2.waitKey(33)<0 :\n",
    "    ret, frame = cam.read()\n",
    "    resized_frame = cv2.resize(src=frame, dsize=(672, 384)) \n",
    "    transposed_frame = resized_frame.transpose(2, 0, 1)\n",
    "    input_frame = np.expand_dims(transposed_frame, 0)\n",
    "\n",
    "    face_output = face_model([input_frame])[face_output_layer]\n",
    "    \n",
    "    boxes = DrawBoundingBoxes(face_output, frame, conf=0.5)\n",
    "    if boxes is not None:\n",
    "        for box in boxes: \n",
    "            xmin, ymin, xmax, ymax = box      #box에 저장된 좌표 저장\n",
    "            emotion_input = frame[ymin:ymax,xmin:xmax]         #이미지에서 해당 얼굴 위치를 찾아 저장\n",
    "        \n",
    "            # 감정 인식 모델을 사용하기 위해 이미지 전처리\n",
    "            # Input layer shape:  [1,3,64,64]\n",
    "            resized_image = cv2.resize(src=emotion_input, dsize=(64, 64))      #이미지 사이즈 변경  (64,64,3)\n",
    "            transposed_image = resized_image.transpose(2, 0, 1)                #shape 위치 변경    (3,64,64)\n",
    "            input_image = np.expand_dims(transposed_image, 0)                  #차원 확장 (1,3,64,64)\n",
    "\n",
    "            emotion_output = emotion_model([input_image])[emotion_output_layer]  # 감정 추론\n",
    "            DrawText(emotion_output, frame, box)   # 추론의 결과값 이미지에 출력하기\n",
    "    \n",
    "    deployment = AddBackground(frame, bg)\n",
    "    \n",
    "    cv2.imshow('Press Spacebar to Exit', deployment)\n",
    "\n",
    "cam.release()\n",
    "cv2.destroyAllWindows()\n",
    "\n",
    "\n"
   ]
  },
  {
   "cell_type": "code",
   "execution_count": null,
   "id": "26241f17-ac8f-4b2a-a5be-f0271ac6d4b7",
   "metadata": {},
   "outputs": [],
   "source": []
  }
 ],
 "metadata": {
  "kernelspec": {
   "display_name": "BrainAI",
   "language": "python",
   "name": "brainai"
  },
  "language_info": {
   "codemirror_mode": {
    "name": "ipython",
    "version": 3
   },
   "file_extension": ".py",
   "mimetype": "text/x-python",
   "name": "python",
   "nbconvert_exporter": "python",
   "pygments_lexer": "ipython3",
   "version": "3.11.8"
  }
 },
 "nbformat": 4,
 "nbformat_minor": 5
}
